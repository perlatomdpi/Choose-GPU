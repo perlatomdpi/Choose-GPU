{
  "nbformat": 4,
  "nbformat_minor": 0,
  "metadata": {
    "colab": {
      "name": "Accellerated-Data-Manipulation.ipynb",
      "provenance": [],
      "collapsed_sections": [],
      "toc_visible": true,
      "authorship_tag": "ABX9TyOPH9N/MBeSya0gs76pb8r8",
      "include_colab_link": true
    },
    "kernelspec": {
      "name": "python3",
      "display_name": "Python 3"
    }
  },
  "cells": [
    {
      "cell_type": "markdown",
      "metadata": {
        "id": "view-in-github",
        "colab_type": "text"
      },
      "source": [
        "<a href=\"https://colab.research.google.com/github/perlatomdpi/GPU-Machine-Learning-Algorithms/blob/main/Accellerated_Data_Manipulation.ipynb\" target=\"_parent\"><img src=\"https://colab.research.google.com/assets/colab-badge.svg\" alt=\"Open In Colab\"/></a>"
      ]
    },
    {
      "cell_type": "markdown",
      "metadata": {
        "id": "gbtsLYHW9ApA"
      },
      "source": [
        "# **GPU Accellerated Data Manipulation**\n",
        "Magic commands: <br>\n",
        "1. `%time` and `%%time` which will print summary information about how long it took to run code for a line or entire cell respectively. <br>\n",
        "2. `%load` which will load the contents of a given file into the cell. "
      ]
    },
    {
      "cell_type": "code",
      "metadata": {
        "id": "WOHko1ca81Uy"
      },
      "source": [
        "from time import sleep"
      ],
      "execution_count": null,
      "outputs": []
    },
    {
      "cell_type": "code",
      "metadata": {
        "id": "Re6VGfEpApDD"
      },
      "source": [
        "# CHECK GPU\n",
        "#==============================================================================\n",
        "# Runtime -> Change runtime type -> GPU \n",
        "# Has to be RAPIDS compatible: \n",
        "# If not terminate and restart session\n",
        "!nvidia-smi"
      ],
      "execution_count": null,
      "outputs": []
    },
    {
      "cell_type": "code",
      "metadata": {
        "id": "duL2fgcBAqNl"
      },
      "source": [
        "#==============================================================================\n",
        "# INSTALL RAPIDS\n",
        "#==============================================================================\n",
        "!git clone https://github.com/rapidsai/rapidsai-csp-utils.git\n",
        "!bash rapidsai-csp-utils/colab/rapids-colab.sh stable\n",
        "\n",
        "import sys, os\n",
        "\n",
        "dist_package_index = sys.path.index('/usr/local/lib/python3.6/dist-packages')\n",
        "sys.path = sys.path[:dist_package_index] + ['/usr/local/lib/python3.6/site-packages'] + sys.path[dist_package_index:]\n",
        "sys.path\n",
        "exec(open('rapidsai-csp-utils/colab/update_modules.py').read(), globals())"
      ],
      "execution_count": null,
      "outputs": []
    },
    {
      "cell_type": "code",
      "metadata": {
        "id": "8Alm5GdJAtpu"
      },
      "source": [
        "#==============================================================================\n",
        "# LOAD PACKAGES\n",
        "#==============================================================================\n",
        "# Import cuDF and CuPy for GPU-accelerated dataframes and math operations, plus the CPU libraries Pandas and NumPy\n",
        "import cudf\n",
        "import cupy as cp\n",
        "\n",
        "import pandas as pd\n",
        "import numpy as np"
      ],
      "execution_count": null,
      "outputs": []
    },
    {
      "cell_type": "code",
      "metadata": {
        "id": "fFKBaU0DA1-J"
      },
      "source": [
        "# Read data\n",
        "%time gdf = cudf.read_csv('./data/my_data.csv')\n",
        "gdf.shape"
      ],
      "execution_count": null,
      "outputs": []
    },
    {
      "cell_type": "code",
      "metadata": {
        "id": "FECDDzAVKAxB"
      },
      "source": [
        "# Write data\n",
        "%time rome_residents = gdf.loc[gdf['county'] == 'ROME']"
      ],
      "execution_count": null,
      "outputs": []
    },
    {
      "cell_type": "markdown",
      "metadata": {
        "id": "NkJBGzNqKSkB"
      },
      "source": [
        "# **Convert data type**\n",
        "\n"
      ]
    },
    {
      "cell_type": "code",
      "metadata": {
        "id": "sDZqNRPWJLpS"
      },
      "source": [
        "%time gdf['age'] = gdf['age'].astype('float32') # Change format\n",
        "%time gdf['name'] = gdf['name'].str.title()     # Convert to lowercase\n",
        "\n",
        "gdf['lat'] = gdf['lat'].astype('float32')       # Change coordinates format\n",
        "gdf['long'] = gdf['long'].astype('float32')"
      ],
      "execution_count": null,
      "outputs": []
    },
    {
      "cell_type": "markdown",
      "metadata": {
        "id": "BTPF4GRQKsgL"
      },
      "source": [
        "# **Data Subsetting**"
      ]
    },
    {
      "cell_type": "code",
      "metadata": {
        "id": "So1qmfIGKYfR"
      },
      "source": [
        "# loc will include every value it is passed whereas\n",
        "gdf.loc[100:200]\n",
        "\n",
        "# loc with Boolean Selection\n",
        "%time e_names = gdf.loc[gdf['name'].str.startswith('A')]\n",
        "\n",
        "# cuDF: \n",
        "# name that start with A and end with w - slower cuDF solution\n",
        "time ed_names = gdf.loc[np.logical_and(gdf['name'].str.startswith('E'), gdf['name'].str.endswith('d'))]\n",
        "\n",
        "# cuPY: \n",
        "# name that start with A and end with w - faster cuPY solutiion\n",
        "%time ed_names = gdf.loc[cp.logical_and(gdf['name'].str.startswith('A'), gdf['name'].str.endswith('w'))]"
      ],
      "execution_count": null,
      "outputs": []
    },
    {
      "cell_type": "markdown",
      "metadata": {
        "id": "FikbNbJENz3x"
      },
      "source": [
        "# **Identify the latitude**\n"
      ]
    },
    {
      "cell_type": "code",
      "metadata": {
        "id": "KuuxebeDNO3-"
      },
      "source": [
        "# Infer the person with the maximum lat value\n",
        "sunderland_residents = gdf.loc[gdf['county'] == 'Italy']\n",
        "northmost_sunderland_lat = sunderland_residents['lat'].max()"
      ],
      "execution_count": null,
      "outputs": []
    },
    {
      "cell_type": "markdown",
      "metadata": {
        "id": "yyhMCvITvuxX"
      },
      "source": [
        "# **Grouping and Sorting**"
      ]
    },
    {
      "cell_type": "code",
      "metadata": {
        "id": "Dl28iMO0vznY"
      },
      "source": [
        "# Record grouping\n",
        "%%time\n",
        "counties = gdf[['county', 'age']].groupby(['county'])\n",
        "avg_ages = counties.mean()\n",
        "print(avg_ages[:5])"
      ],
      "execution_count": null,
      "outputs": []
    },
    {
      "cell_type": "code",
      "metadata": {
        "id": "YjKXhC27v9e5"
      },
      "source": [
        "# Sorting\n",
        "%time gdf_names = gdf['name'].sort_values()\n",
        "print(gdf_names[:5]) # yes, \"A\" is an infrequent but correct given name in the UK, according to census data\n",
        "print(gdf_names[-5:])"
      ],
      "execution_count": null,
      "outputs": []
    },
    {
      "cell_type": "markdown",
      "metadata": {
        "id": "5M2nNNQKwhku"
      },
      "source": [
        "# **Example**\n",
        "Which names are associated with the lowest average age and how many people have those names. Using the mean and count methods on the data grouped by name, identify the three names with the lowest mean age and their counts."
      ]
    },
    {
      "cell_type": "code",
      "metadata": {
        "id": "Vol_dkgywX9t"
      },
      "source": [
        "name_groups = gdf[['name', 'age']].groupby('name')\n",
        "\n",
        "name_ages = name_groups['age'].mean()\n",
        "name_counts = name_groups['age'].count()\n",
        "\n",
        "ages_counts = cudf.DataFrame()\n",
        "ages_counts['mean_age'] = name_ages\n",
        "ages_counts['count'] = name_counts\n",
        "\n",
        "ages_counts = ages_counts.sort_values('mean_age')\n",
        "ages_counts.iloc[:3]"
      ],
      "execution_count": null,
      "outputs": []
    }
  ]
}