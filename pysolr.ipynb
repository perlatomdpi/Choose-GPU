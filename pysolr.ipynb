{
  "nbformat": 4,
  "nbformat_minor": 0,
  "metadata": {
    "colab": {
      "name": "pysolr.ipynb",
      "provenance": [],
      "collapsed_sections": [],
      "toc_visible": true,
      "authorship_tag": "ABX9TyMhrpxzR1L2uRaunnx2BgRR",
      "include_colab_link": true
    },
    "kernelspec": {
      "name": "python3",
      "display_name": "Python 3"
    }
  },
  "cells": [
    {
      "cell_type": "markdown",
      "metadata": {
        "id": "view-in-github",
        "colab_type": "text"
      },
      "source": [
        "<a href=\"https://colab.research.google.com/github/perlatomdpi/GPU-Machine-Learning-Algorithms/blob/main/pysolr.ipynb\" target=\"_parent\"><img src=\"https://colab.research.google.com/assets/colab-badge.svg\" alt=\"Open In Colab\"/></a>"
      ]
    },
    {
      "cell_type": "markdown",
      "metadata": {
        "id": "eX3rBafKTd6N"
      },
      "source": [
        "# **Connect to Solr via pysolr**\n"
      ]
    },
    {
      "cell_type": "code",
      "metadata": {
        "id": "7TSNPmZuTYaQ"
      },
      "source": [
        "solr = pysolr.Solr('http://***', always_commit=False,timeout=120, auth=('username','password'))\n",
        "cursor = '*'\n",
        "df1 = pd.DataFrame()\n",
        "\n",
        "# Batch computation\n",
        "# Fetch 100 rows per 10 times: 10 * 100 --> using nextCursorMark\n",
        "for x in range(0,10):     \n",
        "    results = solr.search('var_1:* AND var_2\":true AND var_year:2020', **{\n",
        "        'fl': 'id,var_3,var_4',\n",
        "        'cursorMark': cursor,\n",
        "        'sort': 'id desc',\n",
        "        'rows': '100',\n",
        "        'wt':'csv'\n",
        "    })\n",
        "    cursor = results.nextCursorMark\n",
        "    df1 = df1.append(results.docs, ignore_index=True)"
      ],
      "execution_count": null,
      "outputs": []
    },
    {
      "cell_type": "markdown",
      "metadata": {
        "id": "uiy4G_ONTt38"
      },
      "source": [
        "# **Transform data**\n",
        "Unlist values and put in a row <br>\n",
        "Version for multiple list column to put in signle row <br>"
      ]
    },
    {
      "cell_type": "code",
      "metadata": {
        "id": "CJS7zi5JTrtU"
      },
      "source": [
        "# Multiple list column to put in signle row --> long format\n",
        "lst_col = 'my_list_var'\n",
        "lst_col_1 = 'my_list_var_1'\n",
        "lst_col_2 = 'my_list_var_2'\n",
        "\n",
        "# Create DF with list colums transformed into consecutive row --> long format\n",
        "r = pd.DataFrame({\n",
        "      col:np.repeat(df1[col].values, df1[lst_col].str.len())          # Repeat column values N times where N is the lenght of list                         \n",
        "      for col in df1.columns}                                         # np.concatenate() --> flatten all values in the list column and get a 1D vector\n",
        "    ).assign(**{lst_col:np.concatenate(df1[lst_col].values),          # ** --> put data into a dictionary\n",
        "                lst_col_1:np.concatenate(df1[lst_col_1].values),\n",
        "                lst_col_2:np.concatenate(df1[lst_col_2].values) \n",
        "                })"
      ],
      "execution_count": null,
      "outputs": []
    }
  ]
}