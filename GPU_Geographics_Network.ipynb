{
  "nbformat": 4,
  "nbformat_minor": 0,
  "metadata": {
    "colab": {
      "name": "GPU-Geographics-Network.ipynb",
      "provenance": [],
      "collapsed_sections": [],
      "toc_visible": true,
      "authorship_tag": "ABX9TyMW5ZH4wrIKoNZIvtLJnjT4",
      "include_colab_link": true
    },
    "kernelspec": {
      "name": "python3",
      "display_name": "Python 3"
    }
  },
  "cells": [
    {
      "cell_type": "markdown",
      "metadata": {
        "id": "view-in-github",
        "colab_type": "text"
      },
      "source": [
        "<a href=\"https://colab.research.google.com/github/perlatomdpi/GPU-Machine-Learning-Algorithms/blob/main/GPU_Geographics_Network.ipynb\" target=\"_parent\"><img src=\"https://colab.research.google.com/assets/colab-badge.svg\" alt=\"Open In Colab\"/></a>"
      ]
    },
    {
      "cell_type": "markdown",
      "metadata": {
        "id": "ZRvxDt7LrFRw"
      },
      "source": [
        "# **GeoGraphics netwotk analysis**\n",
        "From geographic data we can obrain distance between the cities (nodes) that ae connected (edges), and the size of the edges could be the averaged limit-speed to arrive from source node (departure city) to destination node (destitation city)."
      ]
    },
    {
      "cell_type": "markdown",
      "metadata": {
        "id": "IRKULrRIraGk"
      },
      "source": [
        "# **Libraries**"
      ]
    },
    {
      "cell_type": "code",
      "metadata": {
        "id": "_YLLYtQeq6of"
      },
      "source": [
        "# After installing RAPIDs impoorrt the following acceletated libraries + networkx\n",
        "import cudf\n",
        "import cugraph as cg\n",
        "import networkx as nx"
      ],
      "execution_count": null,
      "outputs": []
    },
    {
      "cell_type": "code",
      "metadata": {
        "id": "VkplwP_0rPXI"
      },
      "source": [
        "# Read data\n",
        "road_nodes = cudf.read_csv('./data/node.csv')\n",
        "road_edges = cudf.read_csv('./data/edge.csv')"
      ],
      "execution_count": null,
      "outputs": []
    },
    {
      "cell_type": "code",
      "metadata": {
        "id": "MWyVJev1r2w5"
      },
      "source": [
        "# summary the size of the network\n",
        "print(f'{road_edges.shape[0]} edges, {road_nodes.shape[0]} nodes')"
      ],
      "execution_count": null,
      "outputs": []
    },
    {
      "cell_type": "markdown",
      "metadata": {
        "id": "yrNAHOXjsMAl"
      },
      "source": [
        "# **Create the network**"
      ]
    },
    {
      "cell_type": "code",
      "metadata": {
        "id": "Umo_sD8gsHAz"
      },
      "source": [
        "G = cg.Graph()\n",
        "%time G.from_cudf_edgelist(road_edges, source='src_id', destination='dst_id', edge_attr='length')\n",
        "\n",
        "# Reindex nodes\n",
        "# For efficient lookup, we will reindex road_nodes to use the node_id as its index\n",
        "road_nodes = road_nodes.set_index('node_id', drop=True)\n",
        "%time road_nodes = road_nodes.sort_index()\n",
        "road_nodes.head()\n",
        "\n",
        "# Calculate degree centrality\n",
        "deg_df = G.degree()\n",
        "deg_df['degree'].describe()[1:]"
      ],
      "execution_count": null,
      "outputs": []
    },
    {
      "cell_type": "markdown",
      "metadata": {
        "id": "xMfhRmOZwZ7D"
      },
      "source": [
        "# **Speed-limit used as Weight into the Geographic Network**"
      ]
    },
    {
      "cell_type": "code",
      "metadata": {
        "id": "gqtA0wgKwIWW"
      },
      "source": [
        "speed_limits = {'Motorway': 70,\n",
        "               'A Road': 60,\n",
        "               'B Road': 60,\n",
        "               'Local Road': 30,\n",
        "               'Local Access Road': 30,\n",
        "               'Minor Road': 30,\n",
        "               'Restricted Local Access Road': 30,\n",
        "               'Secondary Access Road': 30}"
      ],
      "execution_count": null,
      "outputs": []
    },
    {
      "cell_type": "code",
      "metadata": {
        "id": "ymZc-KEew-qy"
      },
      "source": [
        "# Create cuDf and store the speed limit per each road type\n",
        "speed_gdf = cudf.DataFrame()\n",
        "\n",
        "speed_gdf['type'] = speed_limits.keys() # Dictionaryy key of the df speed_limits\n",
        "speed_gdf['limit_mph'] = [speed_limits[key] for key in speed_limits.keys()]\n",
        "speed_gdf"
      ],
      "execution_count": null,
      "outputs": []
    },
    {
      "cell_type": "code",
      "metadata": {
        "id": "D69WxyHbwhae"
      },
      "source": [
        "# Add an additional column called \"limit_m/s\" which for each road type will give us a measure of how fast one can travel on it in meters / second\n",
        "# Road distances in meters (m) --> road distances in seconds (s), \n",
        "# We need to multiply by meters/mile and divide by seconds/hour\n",
        "# 1 mile ~ 1609.34 m\n",
        "speed_gdf['limit_m/s'] = speed_gdf['limit_mph'] * 1609.34 / 3600\n",
        "speed_gdf"
      ],
      "execution_count": null,
      "outputs": []
    },
    {
      "cell_type": "markdown",
      "metadata": {
        "id": "mDDQQw7DyRLz"
      },
      "source": [
        "# **Merge speed_gdf into road_edges**"
      ]
    },
    {
      "cell_type": "code",
      "metadata": {
        "id": "4hWOb0jCyKIp"
      },
      "source": [
        "# cuDF provides merging functionality just like Pandas\n",
        "%time road_edges = road_edges.merge(speed_gdf, on='type')"
      ],
      "execution_count": null,
      "outputs": []
    },
    {
      "cell_type": "markdown",
      "metadata": {
        "id": "F891piTbyhc9"
      },
      "source": [
        "# **Add Length in Seconds Column**"
      ]
    },
    {
      "cell_type": "code",
      "metadata": {
        "id": "hq5ZSjtXygwv"
      },
      "source": [
        "# Calcualte the distance between connected cities\n",
        "road_edges['length_s'] = road_edges['length'] / road_edges['limit_m/s']\n",
        "road_edges['length_s'].head()"
      ],
      "execution_count": null,
      "outputs": []
    },
    {
      "cell_type": "code",
      "metadata": {
        "id": "noM-TNqKzQ8f"
      },
      "source": [
        "# Create cuGraph and use speed-limit as weight\n",
        "G_ex = cg.Graph()\n",
        "G_ex.from_cudf_edgelist(road_edges, source='src_id', destination='dst_id', edge_attr='limit_m/s')"
      ],
      "execution_count": null,
      "outputs": []
    }
  ]
}