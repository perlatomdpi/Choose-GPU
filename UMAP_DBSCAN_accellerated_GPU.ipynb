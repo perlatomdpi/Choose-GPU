{
  "nbformat": 4,
  "nbformat_minor": 0,
  "metadata": {
    "colab": {
      "name": "UMAP-DBSCAN-accellerated GPU.ipynb",
      "provenance": [],
      "collapsed_sections": [],
      "authorship_tag": "ABX9TyN/rvGfx3M502DM347puNEH",
      "include_colab_link": true
    },
    "kernelspec": {
      "name": "python3",
      "display_name": "Python 3"
    }
  },
  "cells": [
    {
      "cell_type": "markdown",
      "metadata": {
        "id": "view-in-github",
        "colab_type": "text"
      },
      "source": [
        "<a href=\"https://colab.research.google.com/github/perlatomdpi/GPU-Machine-Learning-Algorithms/blob/main/UMAP_DBSCAN_accellerated_GPU.ipynb\" target=\"_parent\"><img src=\"https://colab.research.google.com/assets/colab-badge.svg\" alt=\"Open In Colab\"/></a>"
      ]
    },
    {
      "cell_type": "markdown",
      "metadata": {
        "id": "el9Zi3FdLYdj"
      },
      "source": [
        "# Find Clusters of Infected People\n",
        "The goal is to estimate the location of dense geographic clusters of infected people."
      ]
    },
    {
      "cell_type": "code",
      "metadata": {
        "id": "sXoh9FCuJ4lO"
      },
      "source": [
        "# CHECK GPU\n",
        "#==============================================================================\n",
        "# Runtime -> Change runtime type -> GPU \n",
        "# Has to be RAPIDS compatible: \n",
        "# If not terminate and restart session\n",
        "!nvidia-smi"
      ],
      "execution_count": null,
      "outputs": []
    },
    {
      "cell_type": "code",
      "metadata": {
        "id": "sJCFFBKQLvLc"
      },
      "source": [
        "\n",
        "#==============================================================================\n",
        "# INSTALL RAPIDS\n",
        "#==============================================================================\n",
        "!git clone https://github.com/rapidsai/rapidsai-csp-utils.git\n",
        "!bash rapidsai-csp-utils/colab/rapids-colab.sh stable\n",
        "\n",
        "import sys, os\n",
        "\n",
        "dist_package_index = sys.path.index('/usr/local/lib/python3.6/dist-packages')\n",
        "sys.path = sys.path[:dist_package_index] + ['/usr/local/lib/python3.6/site-packages'] + sys.path[dist_package_index:]\n",
        "sys.path\n",
        "exec(open('rapidsai-csp-utils/colab/update_modules.py').read(), globals())"
      ],
      "execution_count": null,
      "outputs": []
    },
    {
      "cell_type": "code",
      "metadata": {
        "id": "r3LJSza5L17S"
      },
      "source": [
        "#==============================================================================\n",
        "# LOAD PACKAGES\n",
        "#==============================================================================\n",
        "import cudf\n",
        "import cuml\n",
        "import cupy as cp"
      ],
      "execution_count": null,
      "outputs": []
    }
  ]
}