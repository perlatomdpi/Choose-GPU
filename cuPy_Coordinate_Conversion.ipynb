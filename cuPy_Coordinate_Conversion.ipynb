{
  "nbformat": 4,
  "nbformat_minor": 0,
  "metadata": {
    "colab": {
      "name": "cuPy-Coordinate-Conversion.ipynb",
      "provenance": [],
      "collapsed_sections": [],
      "toc_visible": true,
      "authorship_tag": "ABX9TyOiIj9v+iYZuPEdeF8WyGIl",
      "include_colab_link": true
    },
    "kernelspec": {
      "name": "python3",
      "display_name": "Python 3"
    }
  },
  "cells": [
    {
      "cell_type": "markdown",
      "metadata": {
        "id": "view-in-github",
        "colab_type": "text"
      },
      "source": [
        "<a href=\"https://colab.research.google.com/github/perlatomdpi/GPU-Machine-Learning-Algorithms/blob/main/cuPy_Coordinate_Conversion.ipynb\" target=\"_parent\"><img src=\"https://colab.research.google.com/assets/colab-badge.svg\" alt=\"Open In Colab\"/></a>"
      ]
    },
    {
      "cell_type": "markdown",
      "metadata": {
        "id": "lonLgqOvyFgO"
      },
      "source": [
        "# **Grid Coordinate Conversion with CuPy**\n",
        "By using a region-specific map projection, we can compute local distances efficiently and with good accuracy. <br>\n",
        "\n",
        "We use the powerful GPU-accelerated drop-in replacement library for NumPy called CuPy. <br>\n",
        "\n"
      ]
    },
    {
      "cell_type": "code",
      "metadata": {
        "id": "lDpn9Q2KyCly"
      },
      "source": [
        "from time import sleep"
      ],
      "execution_count": null,
      "outputs": []
    },
    {
      "cell_type": "code",
      "metadata": {
        "id": "_uNSOciLyL9g"
      },
      "source": [
        "#==============================================================================\n",
        "# INSTALL RAPIDS\n",
        "#==============================================================================\n",
        "!git clone https://github.com/rapidsai/rapidsai-csp-utils.git\n",
        "!bash rapidsai-csp-utils/colab/rapids-colab.sh stable\n",
        "\n",
        "import sys, os\n",
        "\n",
        "dist_package_index = sys.path.index('/usr/local/lib/python3.6/dist-packages')\n",
        "sys.path = sys.path[:dist_package_index] + ['/usr/local/lib/python3.6/site-packages'] + sys.path[dist_package_index:]\n",
        "sys.path\n",
        "exec(open('rapidsai-csp-utils/colab/update_modules.py').read(), globals())"
      ],
      "execution_count": null,
      "outputs": []
    },
    {
      "cell_type": "code",
      "metadata": {
        "id": "DTDUgMAtyQf7"
      },
      "source": [
        "#==============================================================================\n",
        "# LOAD PACKAGES\n",
        "#==============================================================================\n",
        "# Import cuDF and CuPy for GPU-accelerated dataframes and math operations, plus the CPU libraries Pandas and NumPy\n",
        "import cudf\n",
        "import cupy as cp\n",
        "\n",
        "import pandas as pd\n",
        "import numpy as np"
      ],
      "execution_count": null,
      "outputs": []
    },
    {
      "cell_type": "code",
      "metadata": {
        "id": "dQhY1HaCyWPG"
      },
      "source": [
        "# Read data\n",
        "%time gdf = cudf.read_csv('./data/my_data.csv')\n",
        "gdf.shape"
      ],
      "execution_count": null,
      "outputs": []
    },
    {
      "cell_type": "markdown",
      "metadata": {
        "id": "tcF5SqcHgoxE"
      },
      "source": [
        "# **NumPy - Lat/Long to OSGB Grid Converter**\n",
        "The Ordnance Survey National Grid reference systemis a system of geographic grid references used in Great Britain, distinct from latitude and longitude. <br>\n",
        "https://en.wikipedia.org/wiki/Ordnance_Survey_National_Grid <br>\n",
        "https://www.youtube.com/watch?v=QIrELLSWWB8 <br>\n",
        "\n",
        "Converts latitude and longitude (ellipsoidal) coordinates into northing and easting (grid) coordinates, using a Transverse Mercator projection.\n",
        "\n",
        "Inputs:\n",
        "lat: latitude coordinate (north)\n",
        "long: longitude coordinate (east)\n",
        "input_degrees: if True (default), interprets the coordinates as degrees;        otherwise, interprets coordinates as radians\n",
        "    \n",
        "Output:\n",
        "northing, easting\n"
      ]
    },
    {
      "cell_type": "code",
      "metadata": {
        "id": "eyVIo84C2x_-"
      },
      "source": [
        "def latlong2osgbgrid(lat, long, input_degrees=True):\n",
        "        if input_degrees:\n",
        "        lat = lat * np.pi/180\n",
        "        long = long * np.pi/180\n",
        "\n",
        "    a = 6377563.396\n",
        "    b = 6356256.909\n",
        "    e2 = (a**2 - b**2) / a**2\n",
        "\n",
        "    N0 = -100000                # northing of true origin\n",
        "    E0 = 400000                 # easting of true origin\n",
        "    F0 = .9996012717            # scale factor on central meridian\n",
        "    phi0 = 49 * np.pi / 180     # latitude of true origin\n",
        "    lambda0 = -2 * np.pi / 180  # longitude of true origin and central meridian\n",
        "    \n",
        "    sinlat = np.sin(lat)\n",
        "    coslat = np.cos(lat)\n",
        "    tanlat = np.tan(lat)\n",
        "    \n",
        "    latdiff = lat-phi0\n",
        "    longdiff = long-lambda0\n",
        "\n",
        "    n = (a-b) / (a+b)\n",
        "    nu = a * F0 * (1 - e2 * sinlat ** 2) ** -.5\n",
        "    rho = a * F0 * (1 - e2) * (1 - e2 * sinlat ** 2) ** -1.5\n",
        "    eta2 = nu / rho - 1\n",
        "    M = b * F0 * ((1 + n + 5/4 * (n**2 + n**3)) * latdiff - \n",
        "                  (3*(n+n**2) + 21/8 * n**3) * np.sin(latdiff) * np.cos(lat+phi0) +\n",
        "                  15/8 * (n**2 + n**3) * np.sin(2*(latdiff)) * np.cos(2*(lat+phi0)) - \n",
        "                  35/24 * n**3 * np.sin(3*(latdiff)) * np.cos(3*(lat+phi0)))\n",
        "    I = M + N0\n",
        "    II = nu/2 * sinlat * coslat\n",
        "    III = nu/24 * sinlat * coslat ** 3 * (5 - tanlat ** 2 + 9 * eta2)\n",
        "    IIIA = nu/720 * sinlat * coslat ** 5 * (61-58 * tanlat**2 + tanlat**4)\n",
        "    IV = nu * coslat\n",
        "    V = nu / 6 * coslat**3 * (nu/rho - np.tan(lat)**2)\n",
        "    VI = nu / 120 * coslat ** 5 * (5 - 18 * tanlat**2 + tanlat**4 + 14 * eta2 - 58 * tanlat**2 * eta2)\n",
        "\n",
        "    northing = I + II * longdiff**2 + III * longdiff**4 + IIIA * longdiff**6\n",
        "    easting = E0 + IV * longdiff + V * longdiff**3 + VI * longdiff**5\n",
        "\n",
        "    return(northing, easting)"
      ],
      "execution_count": null,
      "outputs": []
    },
    {
      "cell_type": "markdown",
      "metadata": {
        "id": "q67ajQ1imGQQ"
      },
      "source": [
        "# **cuPy - Lat/Long to OSGB Grid Converter**"
      ]
    },
    {
      "cell_type": "code",
      "metadata": {
        "id": "zSc5F21bmKor"
      },
      "source": [
        "def latlong2osgbgrid_cupy(lat, long, input_degrees=True):\n",
        "    if input_degrees:\n",
        "        lat = lat * cp.pi/180\n",
        "        long = long * cp.pi/180\n",
        "\n",
        "    a = 6377563.396\n",
        "    b = 6356256.909\n",
        "    e2 = (a**2 - b**2) / a**2\n",
        "\n",
        "    N0 = -100000                 # northing of true origin\n",
        "    E0 = 400000                  # easting of true origin\n",
        "    F0 = .9996012717             # scale factor on central meridian\n",
        "    phi0 = 49 * cp.pi / 180      # latitude of true origin\n",
        "    lambda0 = -2 * cp.pi / 180   # longitude of true origin and central meridian\n",
        "    \n",
        "    sinlat = cp.sin(lat)\n",
        "    coslat = cp.cos(lat)\n",
        "    tanlat = cp.tan(lat)\n",
        "    \n",
        "    latdiff = lat-phi0\n",
        "    longdiff = long-lambda0\n",
        "\n",
        "    n = (a-b) / (a+b)\n",
        "    nu = a * F0 * (1 - e2 * sinlat ** 2) ** -.5\n",
        "    rho = a * F0 * (1 - e2) * (1 - e2 * sinlat ** 2) ** -1.5\n",
        "    eta2 = nu / rho - 1\n",
        "    M = b * F0 * ((1 + n + 5/4 * (n**2 + n**3)) * latdiff - \n",
        "                  (3*(n+n**2) + 21/8 * n**3) * cp.sin(latdiff) * cp.cos(lat+phi0) +\n",
        "                  15/8 * (n**2 + n**3) * cp.sin(2*(latdiff)) * cp.cos(2*(lat+phi0)) - \n",
        "                  35/24 * n**3 * cp.sin(3*(latdiff)) * cp.cos(3*(lat+phi0)))\n",
        "    I = M + N0\n",
        "    II = nu/2 * sinlat * coslat\n",
        "    III = nu/24 * sinlat * coslat ** 3 * (5 - tanlat ** 2 + 9 * eta2)\n",
        "    IIIA = nu/720 * sinlat * coslat ** 5 * (61-58 * tanlat**2 + tanlat**4)\n",
        "    IV = nu * coslat\n",
        "    V = nu / 6 * coslat**3 * (nu/rho - cp.tan(lat)**2)\n",
        "    VI = nu / 120 * coslat ** 5 * (5 - 18 * tanlat**2 + tanlat**4 + 14 * eta2 - 58 * tanlat**2 * eta2)\n",
        "\n",
        "    northing = I + II * longdiff**2 + III * longdiff**4 + IIIA * longdiff**6\n",
        "    easting = E0 + IV * longdiff + V * longdiff**3 + VI * longdiff**5\n",
        "\n",
        "    return(northing, easting)"
      ],
      "execution_count": null,
      "outputs": []
    },
    {
      "cell_type": "markdown",
      "metadata": {
        "id": "wDP2OTjhmtjF"
      },
      "source": [
        "# **Adding Grid Coordinate Columns to Dataframe**"
      ]
    },
    {
      "cell_type": "code",
      "metadata": {
        "id": "HJJTerGpmnAK"
      },
      "source": [
        "%%time\n",
        "cupy_lat = cp.asarray(gdf['lat'])\n",
        "cupy_long = cp.asarray(gdf['long'])"
      ],
      "execution_count": null,
      "outputs": []
    }
  ]
}